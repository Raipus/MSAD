{
  "cells": [
    {
      "cell_type": "code",
      "execution_count": 4,
      "metadata": {
        "id": "R_AHvTFlqQIN"
      },
      "outputs": [],
      "source": [
        "import matplotlib.pyplot as plt\n",
        "import math\n",
        "import numpy as np\n",
        "import random\n",
        "import pandas as pd\n",
        "from scipy import stats\n",
        "\n",
        "with open('Москва_2021.txt', 'r') as file:\n",
        "    ages = list(map(int, file.readlines()))"
      ]
    },
    {
      "cell_type": "code",
      "execution_count": 8,
      "metadata": {
        "colab": {
          "base_uri": "https://localhost:8080/"
        },
        "id": "6KmfeLsFq6cp",
        "outputId": "e5497f0b-75f6-44b4-c246-247fef332bc6"
      },
      "outputs": [
        {
          "name": "stdout",
          "output_type": "stream",
          "text": [
            "[14 22 30 39 47 56 64 73]\n",
            "[3867 8571 7674 6452 3583 1362  914]\n",
            "31.433411467168362\n",
            "11.70269673443666\n",
            "[-inf, np.float64(-9.433411467168362), np.float64(-1.4334114671683622), np.float64(7.566588532831638), np.float64(15.566588532831638), np.float64(24.566588532831638), inf]\n",
            "[-0.5, np.float64(0.5), np.float64(0.4241298583824062), np.float64(0.4999999999999808), np.float64(0.5), np.float64(0.5), 0.5]\n",
            "Chi-squared Statistic: 216039.22164565255\n",
            "Критическое значение: 1.6353828943279067\n",
            "Отвергаем нулевую гипотезу: данные не распределены нормально.\n"
          ]
        }
      ],
      "source": [
        "# Задание 1. По критерию Пирсона и уровне значимости 0,05 проверить нулевую гипотезу о нормальном распределении\n",
        "#-------------------------------------------------#\n",
        "#Разбиение данных на 7 равных групп\n",
        "num_bins = 7\n",
        "bins = np.linspace(start=int(min(ages)), stop=int(max(ages)), num=num_bins + 1, dtype=int)\n",
        "print(bins)\n",
        "\n",
        "# Вычисление эмпирическх частот\n",
        "empirical_freq, _ = np.histogram(ages, bins=bins)\n",
        "print(empirical_freq)\n",
        "\n",
        "#Данные нормального распределения\n",
        "mu=35.37\n",
        "sigma=144.91\n",
        "\n",
        "# Вычисление теоретических частот\n",
        "# Для каждого интервала\n",
        "\n",
        "theoretical_freq = []\n",
        "\n",
        "avg_bins = []\n",
        "for i in range(0, len(bins)-2):\n",
        "  avg_bins.append((bins[i]+bins[i+1])/2)\n",
        "\n",
        "theoretical_mu=0\n",
        "for i in range(len(avg_bins)-1):\n",
        "  theoretical_mu += avg_bins[i] * empirical_freq[i] / len(ages)\n",
        "print(theoretical_mu)\n",
        "\n",
        "sum1 = 0\n",
        "for x, n in zip(avg_bins, empirical_freq):\n",
        "  sum1 += n * (x - theoretical_mu)**2\n",
        "theoretical_sigma = math.sqrt(sum1 / len(ages))\n",
        "print(theoretical_sigma)\n",
        "\n",
        "norm_bins = []\n",
        "for i in range(len(bins)-1):\n",
        "  norm_bins.append(bins[i] - theoretical_mu)\n",
        "norm_bins[0] = -math.inf\n",
        "norm_bins[-1] = math.inf\n",
        "print(norm_bins)\n",
        "\n",
        "fi = []\n",
        "for i in range(len(norm_bins)):\n",
        "  if (norm_bins[i] == -math.inf):\n",
        "    fi.append(-0.5)\n",
        "  elif (norm_bins[i] == math.inf):\n",
        "    fi.append(0.5)\n",
        "  elif norm_bins[i] < 0:\n",
        "    fi.append(-(stats.norm.cdf(norm_bins[i]) - 0.5))\n",
        "  else:\n",
        "     fi.append(stats.norm.cdf(norm_bins[i]) - 0.5)\n",
        "print(fi)\n",
        "\n",
        "\n",
        "for i in range(len(bins) - 1):\n",
        "    p = stats.norm.cdf(bins[i + 1], mu, sigma) - stats.norm.cdf(bins[i], mu, sigma)\n",
        "    theoretical_freq.append(p * len(ages))\n",
        "\n",
        "# Преобразуем в массив\n",
        "theoretical_freq = np.array(theoretical_freq)\n",
        "\n",
        "# Вычисление хи-квадрат\n",
        "chi2_stat = 0\n",
        "for i in range(num_bins-1):\n",
        "  chi2_stat += ( ( empirical_freq[i] - theoretical_freq[i] )**2 ) / ( theoretical_freq[i] )\n",
        "\n",
        "# Сравнение с критическим значением\n",
        "alpha = 0.05\n",
        "critical_value = stats.chi2.ppf(alpha, df=num_bins - 1)\n",
        "\n",
        "# Вывод результатов\n",
        "print(f\"Chi-squared Statistic: {chi2_stat}\")\n",
        "print(f\"Критическое значение: {critical_value}\")\n",
        "\n",
        "if chi2_stat > critical_value:\n",
        "    print(\"Отвергаем нулевую гипотезу: данные не распределены нормально.\")\n",
        "else:\n",
        "    print(\"Не отвергаем нулевую гипотезу: данные распределены нормально.\")"
      ]
    }
  ],
  "metadata": {
    "colab": {
      "provenance": []
    },
    "kernelspec": {
      "display_name": "Python 3",
      "name": "python3"
    },
    "language_info": {
      "codemirror_mode": {
        "name": "ipython",
        "version": 3
      },
      "file_extension": ".py",
      "mimetype": "text/x-python",
      "name": "python",
      "nbconvert_exporter": "python",
      "pygments_lexer": "ipython3",
      "version": "3.12.5"
    }
  },
  "nbformat": 4,
  "nbformat_minor": 0
}
